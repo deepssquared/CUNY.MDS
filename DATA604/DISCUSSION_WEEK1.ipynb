{
 "cells": [
  {
   "cell_type": "code",
   "execution_count": 24,
   "id": "3ad4561a-4978-4b91-8e65-3e49b8e9cffe",
   "metadata": {},
   "outputs": [],
   "source": [
    "import random\n",
    "import numpy as np\n",
    "import statistics\n",
    "random.seed(10)"
   ]
  },
  {
   "cell_type": "code",
   "execution_count": null,
   "id": "b503ce6a-4b89-444d-a807-eb6f89e2cc10",
   "metadata": {},
   "outputs": [],
   "source": [
    "dice = [1, 2, 3, 4, 5, 6]\n",
    "n = 1000"
   ]
  },
  {
   "cell_type": "code",
   "execution_count": 26,
   "id": "71c9767f-36b4-42d6-b638-a0d823208371",
   "metadata": {},
   "outputs": [],
   "source": [
    "results = []\n",
    "for i in range(1, n):\n",
    "    x = random.choice(dice)\n",
    "    results.append(x)"
   ]
  },
  {
   "cell_type": "code",
   "execution_count": 27,
   "id": "090dbfcf-da44-476e-b71a-8b5e77c3356a",
   "metadata": {},
   "outputs": [
    {
     "name": "stdout",
     "output_type": "stream",
     "text": [
      "Median is : 4 \n"
     ]
    }
   ],
   "source": [
    "print(\"Median is : % s \" % (statistics.median(results)))"
   ]
  },
  {
   "cell_type": "code",
   "execution_count": 28,
   "id": "d276e97b-1777-455e-afe6-da277c2ed4ce",
   "metadata": {},
   "outputs": [
    {
     "name": "stdout",
     "output_type": "stream",
     "text": [
      "Mode is : 4 \n"
     ]
    }
   ],
   "source": [
    "print(\"Mode is : % s \" % (statistics.mode(results)))"
   ]
  },
  {
   "cell_type": "code",
   "execution_count": 29,
   "id": "c2724693-e647-4ed4-82f6-aaa6d2f3e820",
   "metadata": {},
   "outputs": [
    {
     "name": "stdout",
     "output_type": "stream",
     "text": [
      "Mean is : 4 \n"
     ]
    }
   ],
   "source": [
    "print(\"Mean is : % s \" % (statistics.mode(results)))"
   ]
  }
 ],
 "metadata": {
  "kernelspec": {
   "display_name": "Python 3",
   "language": "python",
   "name": "python3"
  },
  "language_info": {
   "codemirror_mode": {
    "name": "ipython",
    "version": 3
   },
   "file_extension": ".py",
   "mimetype": "text/x-python",
   "name": "python",
   "nbconvert_exporter": "python",
   "pygments_lexer": "ipython3",
   "version": "3.8.8"
  }
 },
 "nbformat": 4,
 "nbformat_minor": 5
}
