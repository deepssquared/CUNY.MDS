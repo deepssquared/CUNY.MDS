{
 "cells": [
  {
   "cell_type": "markdown",
   "id": "f67629b2-51db-4f30-b8a4-a76a67378bad",
   "metadata": {},
   "source": [
    "# DATA 604 Final Project:  Simulation of COVID-19 Vaccine Administration\n",
    "## *Deepika Dilip*"
   ]
  },
  {
   "cell_type": "markdown",
   "id": "a6633035-1596-4c54-b5fd-1a6de3bbb74c",
   "metadata": {},
   "source": [
    "## Introduction\n",
    "In December 2020, hospitals released the first doses of the COVID-19 vaccine. Populations were tiered per demographic criteria, including employment at a major hospital, being an at-risk population, etc. The process became chaotic and was openly mocked, to the point that unused doses were rushed to local prisons to avoid waste. **Here, I simulate a simple COVID-19 vaccine site, inspired by my own experience when getting the vaccine from my employer (a hospital cancer center).**"
   ]
  },
  {
   "cell_type": "markdown",
   "id": "c8e85e4a-764a-4aca-8241-94ac7b2b09c8",
   "metadata": {},
   "source": [
    "## Methods: Simulation Workflow"
   ]
  },
  {
   "cell_type": "code",
   "execution_count": 161,
   "id": "6817fbf7-c86e-4b06-b02e-ec73d3b1f3c5",
   "metadata": {},
   "outputs": [],
   "source": [
    "import simpy\n",
    "import numpy as np\n",
    "import pandas as pd\n",
    "import random\n",
    "import itertools \n",
    "import matplotlib.pyplot as plt\n"
   ]
  },
  {
   "cell_type": "markdown",
   "id": "da3f3731-88f1-4629-a244-d39a2f9ae881",
   "metadata": {},
   "source": [
    "The first step here is defining a vaccine clinic that contains all the functions I'll be using. Below is the **VaccineClinic** that contains a parameter for COVID-19 prevalence, along with nurse/staff counts. This is followed by the following processes:\n",
    "\n",
    "* `def_check_in`: Checking in at the front desk\n",
    "* `covid_shot_healthy`: Receiving the shot + waiting afterwards\n",
    "* `covid_shot_risk`: Receiving the shot + waiting afterwards for at-risk populations"
   ]
  },
  {
   "cell_type": "code",
   "execution_count": 89,
   "id": "f236b3b8-b91e-4fed-b39a-d4b91dc9da35",
   "metadata": {},
   "outputs": [],
   "source": [
    "class VaccineClinic(object):\n",
    "    def __init__(self, env, num_staff, num_nurses, covid_prob):\n",
    "        self.env = env\n",
    "        self.staff = simpy.Resource(env, num_staff)\n",
    "        self.nurse = simpy.Resource(env, num_nurses)\n",
    "        self.covid_prob = covid_prob\n",
    "    def check_in(self, patient):\n",
    "        wait_time = random.randrange(5, 20) # Check-in time\n",
    "        wait_time_total['Patient'].append(patient)\n",
    "        wait_time_total['Total Wait Time'].append(wait_time)  # Storing the front desk wait time\n",
    "        yield self.env.timeout(wait_time)\n",
    "    def covid_shot_risk(self, patient):\n",
    " #       at_risk = random.random() < random.uniform(0, 0.1)\n",
    "        vaccine_time = random.randrange(10, 20)\n",
    "        post_vaccine_time = random.randrange(40, 60)\n",
    "#        print(patient, 'is at risk and is waiting post-vax')\n",
    "        total_time =  vaccine_time + post_vaccine_time # Metrics\n",
    "        yield self.env.timeout(total_time)\n",
    "        time_total_d['Patient'].append(patient)\n",
    "        time_total_d['Total Vax Time'].append(total_time)\n",
    "\n",
    "\n",
    "        print(patient, \"got vaccine in\", total_time, \" minutes\")\n",
    "    def covid_shot_healthy(self, patient):\n",
    "        vaccine_time = random.randrange(10, 20)\n",
    "        post_vaccine_time = random.randrange(10, 20)\n",
    "#        print(patient, 'is not at risk and waiting post-vax')\n",
    "        total_time =  vaccine_time + post_vaccine_time # Metrics\n",
    "        yield self.env.timeout(total_time)\n",
    "        time_total_d['Patient'].append(patient)\n",
    "        time_total_d['Total Vax Time'].append(total_time)\n",
    "        \n",
    "        print(patient, \"got vaccine in a total of\", total_time, \" minutes\")\n",
    "\n"
   ]
  },
  {
   "cell_type": "markdown",
   "id": "5edca4cc-d153-4899-a52b-050c1a94cf1e",
   "metadata": {},
   "source": [
    "Here we define the `patient` who goes through the schema listed later. "
   ]
  },
  {
   "cell_type": "code",
   "execution_count": 122,
   "id": "a2e0a549-381e-4f10-ba53-d88e11ecfdcd",
   "metadata": {},
   "outputs": [],
   "source": [
    "def patient(env, name, vc):\n",
    "#    covid = random.random() < random.uniform(0, 0.05) \n",
    "    covid = random.random() < random.uniform(0, vc.covid_prob )\n",
    "#    print(str(covid))\n",
    "    \"\"\"Boolean for whether patient  has COVID\"\"\"\n",
    "    at_risk= random.random() < random.uniform(0, 0.22)\n",
    "    \"\"\"Boolean for whether patient is at risk\"\"\"\n",
    "    \n",
    "    with vc.staff.request() as request: # First request at the front desk\n",
    "        yield request\n",
    "#        print(name, 'arrives for check in')\n",
    "        yield env.process(vc.check_in(name))\n",
    "    if covid is True: # COVID patients can't get vaccine\n",
    "        print(name, 'has COVID and rescheduled')\n",
    "        covid_count.append(name)\n",
    "    else:\n",
    "        with vc.nurse.request() as request: # Second request fo a nurse/vaccine\n",
    "            yield request\n",
    "            if at_risk is True:\n",
    "#                print(name, '(at risk) gets shot')\n",
    "                yield env.process(vc.covid_shot_risk(name))  \n",
    "#                print(name, 'leaves')\n",
    "            else:\n",
    "#                print(name, '(not at risk) gets shot')\n",
    "                yield env.process(vc.covid_shot_healthy(name)) \n",
    "#                print(name, 'leaves')"
   ]
  },
  {
   "cell_type": "markdown",
   "id": "e47a46cf-d45c-49db-b2b4-9ac019e406d4",
   "metadata": {},
   "source": [
    "Lastly, we set up the environment, starting with two patients and then add two per time interval. "
   ]
  },
  {
   "cell_type": "code",
   "execution_count": 123,
   "id": "07a8c6f2-0f2e-4129-84dd-a9e887246a5d",
   "metadata": {},
   "outputs": [],
   "source": [
    "def setup(env, num_staff, num_nurses, t_inter, covid_prob):\n",
    "    \"\"\"Initiates two patients to check in and then creates more patients \n",
    "    entering the clinic\"\"\"\n",
    "    # Create the vaccine clinic\n",
    "    vc = VaccineClinic(env, num_staff, num_nurses, covid_prob)\n",
    "\n",
    "    # 2 initial patients\n",
    "    for i in range(2):\n",
    "        env.process(patient(env,  'Patient %d' % i,  vc))\n",
    "\n",
    "    # More patients\n",
    "    while True:\n",
    "        yield env.timeout(random.randint(t_inter - 2, t_inter + 2))\n",
    "        i += 1\n",
    "        env.process(patient(env,  'Patient %d' % i,  vc))\n"
   ]
  },
  {
   "cell_type": "markdown",
   "id": "ee56564d-c34b-45e3-a763-879fd553cbe2",
   "metadata": {},
   "source": [
    "### Flow Chart\n",
    "In total, the model looks like this:\n",
    "![flowchart](flow_diagram.png)"
   ]
  },
  {
   "cell_type": "markdown",
   "id": "c2f5a0b7-3353-4d03-97e7-cf9d4eac2643",
   "metadata": {},
   "source": [
    "Some points I took into consideration:\n",
    "1. Individuals with COVID-19 **cannot** get the vaccine. Their appointment needs to be rescheduled. This is also where the COVID-19 prevalence of the region kicks in. \n",
    "2. COVID-19 prevalence also affects staff and nurse availability.\n",
    "3. Individuals with co-morbidities will require extra monitoring at the end of their shot.\n"
   ]
  },
  {
   "cell_type": "markdown",
   "id": "7c0fe5c6-695e-4b6e-ab11-f4edbf5f782a",
   "metadata": {},
   "source": [
    "## Methods: Verification\n",
    "Let's see if the model works! Here, I'll incorporate the COVID-19 prevalence in the staffing/nurse counts (people will be taking time off, hopefully). Just to see if this is working, I'll use a COVID-19 prevalence of 5%. I'll run this for 480 interations (or an 8 hour workday, because I want to visualize this on a daily basis). I'll also set the time interval for 15 minutes, because appointments are usually scheduled every quarter of the hour.  "
   ]
  },
  {
   "cell_type": "code",
   "execution_count": 155,
   "id": "ed3271c7-23c4-4495-8833-55cc6ad0a3aa",
   "metadata": {},
   "outputs": [
    {
     "name": "stdout",
     "output_type": "stream",
     "text": [
      "Patient 1 got vaccine in a total of 34  minutes\n",
      "Patient 0 got vaccine in a total of 31  minutes\n",
      "Patient 2 got vaccine in a total of 30  minutes\n",
      "Patient 4 got vaccine in a total of 36  minutes\n",
      "Patient 6 got vaccine in a total of 29  minutes\n",
      "Patient 3 got vaccine in 69  minutes\n",
      "Patient 7 got vaccine in a total of 24  minutes\n",
      "Patient 8 got vaccine in a total of 25  minutes\n",
      "Patient 5 got vaccine in 61  minutes\n",
      "Patient 9 got vaccine in a total of 28  minutes\n",
      "Patient 10 got vaccine in a total of 28  minutes\n",
      "Patient 11 got vaccine in a total of 27  minutes\n",
      "Patient 12 got vaccine in a total of 24  minutes\n",
      "Patient 13 got vaccine in a total of 31  minutes\n",
      "Patient 15 got vaccine in a total of 26  minutes\n",
      "Patient 16 got vaccine in a total of 27  minutes\n",
      "Patient 14 got vaccine in 68  minutes\n",
      "Patient 17 got vaccine in a total of 28  minutes\n",
      "Patient 18 got vaccine in a total of 22  minutes\n",
      "Patient 19 got vaccine in a total of 34  minutes\n",
      "Patient 20 got vaccine in a total of 26  minutes\n",
      "Patient 21 got vaccine in a total of 24  minutes\n",
      "Patient 23 got vaccine in a total of 22  minutes\n",
      "Patient 22 got vaccine in 56  minutes\n",
      "Patient 24 got vaccine in a total of 33  minutes\n",
      "Patient 25 got vaccine in a total of 33  minutes\n",
      "Patient 26 got vaccine in a total of 32  minutes\n",
      "Patient 27 got vaccine in a total of 27  minutes\n",
      "Patient 28 got vaccine in a total of 30  minutes\n",
      "Patient 29 got vaccine in a total of 21  minutes\n",
      "Patient 30 got vaccine in a total of 28  minutes\n"
     ]
    }
   ],
   "source": [
    "# Parameters\n",
    "STAFF_COUNT = 3  * (1- COVID_PROB) # 3 staffers are usually at the front desk\n",
    "TIME_INTERVAL = 15 # Appointments are usually scheduled every 15 minutes \n",
    "COVID_PROB = 0.05 # COVID-19 prevalence \n",
    "NURSE_COUNT = 15 * (1- COVID_PROB) # Ideally there will be 15 nurses. This number will change per COVID-19 prevalence\n",
    "\n",
    "# Objects we'll use to capture results\n",
    "covid_count = [] # Patients with COVID\n",
    "wait_time_total = {'Patient':[], 'Total Wait Time': []} # Wait Time per patient\n",
    "time_total_d = {'Patient':[], 'Total Vax Time': []} # Vax Time per patient\n",
    "\n",
    "env = simpy.Environment()\n",
    "env.process(setup(env, num_staff = STAFF_COUNT, num_nurses = NURSE_COUNT, t_inter = TIME_INTERVAL, covid_prob = COVID_PROB))\n",
    "env.run(until = 480) \n",
    "# We'll do this for 480 iterations (minutes) since we're looking at a 9-5 workday\n"
   ]
  },
  {
   "cell_type": "markdown",
   "id": "435e4fdf-7688-4225-a6dd-8481890f2898",
   "metadata": {},
   "source": [
    "## Methods: COVID-19 at 5%\n",
    "Here, I'll run the simulation, assuming COVID-19 prevalence is at 5%. I'll do this for 30 days, and we can visualize the results"
   ]
  },
  {
   "cell_type": "code",
   "execution_count": 156,
   "id": "9c19a082-e977-4b14-b923-743a59f79a71",
   "metadata": {},
   "outputs": [],
   "source": [
    "%%capture\n",
    "# Next Step, doing this for a month.\n",
    "# Parameters\n",
    "STAFF_COUNT = 3 * (1- COVID_PROB)  # 3 staffers are usually at the front desk\n",
    "TIME_INTERVAL = 15 # Appointments are usually scheduled every 15 minutes \n",
    "COVID_PROB = 0.05 # COVID-19 prevalence \n",
    "NURSE_COUNT = 10 * (1- COVID_PROB) # Ideally there will be 10 nurses. This number will change per COVID-19 prevalence\n",
    "\n",
    "\n",
    "seed_no = range(30)\n",
    "month_total_patients_5 = [] # Total number of patients who arrived at check in per day\n",
    "month_covid_patients_5 = [] # Total number of COVID patients per day\n",
    "month_total_vax_patients_5 = [] # Patients who got vaccinated per day\n",
    "month_mean_vax_time_5 = [] # Mean time it took to get vaccinated per day\n",
    "\n",
    "for i in range(30):\n",
    "    random.seed(seed_no[i])\n",
    "    \n",
    "    # METRICS\n",
    "    covid_count = [] # Patients with COVID\n",
    "    wait_time_total = {'Patient':[], 'Total Wait Time': []} # Wait Time per patient\n",
    "    time_total_d = {'Patient':[], 'Total Vax Time': []} # Vax Time per patient\n",
    "    \n",
    "    # RUN SIMULATION\n",
    "    env = simpy.Environment()\n",
    "    env.process(setup(env, num_staff = STAFF_COUNT, num_nurses = NURSE_COUNT, t_inter = TIME_INTERVAL, covid_prob = COVID_PROB))\n",
    "    env.run(until = 480) \n",
    "    \n",
    "    # STORE DATA\n",
    "    month_total_patients_5.append(len(wait_time_total['Patient']))\n",
    "    month_covid_patients_5.append(len(covid_count))\n",
    "    month_total_vax_patients_5.append(len(time_total_d['Patient']))\n",
    "    month_mean_vax_time_5.append(np.mean(time_total_d['Total Vax Time']))\n",
    "                                \n",
    "    "
   ]
  },
  {
   "cell_type": "markdown",
   "id": "87e19c51-4cb1-4514-a209-3b645752f631",
   "metadata": {},
   "source": [
    "### Patients Vaccinated \n",
    "Here, I'll depict a histogram of patients vaccinated daily at the clinic. The distribution is (somewhat), normal, with a median of 29 patients getting the jab."
   ]
  },
  {
   "cell_type": "code",
   "execution_count": 157,
   "id": "c65b863e-2130-488a-a293-2d9336ef2148",
   "metadata": {},
   "outputs": [
    {
     "data": {
      "image/png": "[encoded data removed]",
      "text/plain": [
       "<Figure size 432x288 with 1 Axes>"
      ]
     },
     "metadata": {
      "needs_background": "light"
     },
     "output_type": "display_data"
    }
   ],
   "source": [
    "plt.hist(month_total_vax_patients_5, density=False, facecolor='r', alpha=0.75)\n",
    "plt.xlabel('Number of Patients')\n",
    "plt.ylabel('Total')\n",
    "plt.title('Histogram of Patients Vaccinated Daily')\n",
    "plt.show()"
   ]
  },
  {
   "cell_type": "code",
   "execution_count": 160,
   "id": "8767ddec-98d8-42a7-ac55-99d152ae4d94",
   "metadata": {},
   "outputs": [
    {
     "data": {
      "image/png": "[encoded data removed]",
      "text/plain": [
       "<Figure size 432x288 with 1 Axes>"
      ]
     },
     "metadata": {
      "needs_background": "light"
     },
     "output_type": "display_data"
    }
   ],
   "source": [
    "\n",
    "plt.hist(month_mean_vax_time_5, density=False, facecolor='g', alpha=0.75)\n",
    "plt.xlabel('Mean Time per Day')\n",
    "plt.ylabel('Total')\n",
    "plt.title('Histogram of Mean Time for Vaccine Administration')\n",
    "plt.show()\n"
   ]
  },
  {
   "cell_type": "markdown",
   "id": "6eac69ad-d976-493b-8028-83f109cfc44a",
   "metadata": {},
   "source": [
    "### Vaccine Administration\n",
    "Here, I'll visualize the average time it took for an individual to get the vaccine (getting the shot and waiting afterwards). Data is skewed right, with most individuals taking ~32 minutes (a couple take longer and are most likely individuals at risk for an adverse reaction later)"
   ]
  },
  {
   "cell_type": "markdown",
   "id": "e7ba6419-07e4-4cca-8e2f-b1a6eb669ed0",
   "metadata": {},
   "source": [
    "And to check, here's the number of COVID-19 patients who arrived at the clinic per day"
   ]
  },
  {
   "cell_type": "markdown",
   "id": "a4c27999-b62a-4bd0-8725-72c2179ac092",
   "metadata": {},
   "source": [
    "Here is the number of patients who got their shot per day"
   ]
  },
  {
   "cell_type": "code",
   "execution_count": 148,
   "id": "c96b8718-99bb-438c-af99-2f63be2b950a",
   "metadata": {},
   "outputs": [
    {
     "data": {
      "image/png": "[encoded data removed]",
      "text/plain": [
       "<Figure size 432x288 with 1 Axes>"
      ]
     },
     "metadata": {
      "needs_background": "light"
     },
     "output_type": "display_data"
    }
   ],
   "source": [
    "plt.bar(range(30), month_total_vax_patients_5, color ='blue',\n",
    "        width = 0.4)\n",
    "plt.xlabel(\"Day of the Month\")\n",
    "plt.ylabel(\"No. of Vaccinated Patients\")\n",
    "plt.title(\"Vaccinated Patients per Day\")\n",
    "plt.show()"
   ]
  },
  {
   "cell_type": "code",
   "execution_count": 159,
   "id": "bbdd7c1b-8cfe-45ce-955a-4b7a787b3e81",
   "metadata": {},
   "outputs": [
    {
     "data": {
      "image/png": "[encoded data removed]",
      "text/plain": [
       "<Figure size 432x288 with 1 Axes>"
      ]
     },
     "metadata": {
      "needs_background": "light"
     },
     "output_type": "display_data"
    }
   ],
   "source": [
    "plt.bar(range(30), month_covid_patients_5, color ='maroon',\n",
    "        width = 0.4)\n",
    "plt.xlabel(\"Day of the Month\")\n",
    "plt.ylabel(\"No. of COVID-19 Patients\")\n",
    "plt.title(\"COVID-19 Patients per Day\")\n",
    "plt.show()"
   ]
  },
  {
   "cell_type": "markdown",
   "id": "a20854ab-57a0-4dcc-b241-2558e9928c93",
   "metadata": {},
   "source": [
    "## Methods: COVID-19 at 25%\n",
    "Here, I'll run the simulation, assuming COVID-19 prevalence is at 25%"
   ]
  },
  {
   "cell_type": "code",
   "execution_count": 150,
   "id": "4e8c4fcb-3bb5-466c-847d-e394e3303cc3",
   "metadata": {},
   "outputs": [],
   "source": [
    "%%capture\n",
    "# Next Step, doing this for a month.\n",
    "# Parameters\n",
    "STAFF_COUNT = 3 * (1- COVID_PROB) # 3 staffers are usually at the front desk\n",
    "TIME_INTERVAL = 15 # Appointments are usually scheduled every 15 minutes \n",
    "COVID_PROB = 0.25 # COVID-19 prevalence \n",
    "NURSE_COUNT = 10 * (1- COVID_PROB) # Ideally there will be 10 nurses. This number will change per COVID-19 prevalence\n",
    "\n",
    "\n",
    "seed_no = range(60, 90, 1)\n",
    "month_total_patients_25 = [] # Total number of patients who arrived at check in per day\n",
    "month_covid_patients_25 = [] # Total number of COVID patients per day\n",
    "month_total_vax_patients_25 = [] # Patients who got vaccinated per day\n",
    "month_mean_vax_time_25 = [] # Mean time it took to get vaccinated per day\n",
    "\n",
    "for i in range(30):\n",
    "    random.seed(seed_no[i])\n",
    "    \n",
    "    # METRICS\n",
    "    covid_count = [] # Patients with COVID\n",
    "    wait_time_total = {'Patient':[], 'Total Wait Time': []} # Wait Time per patient\n",
    "    time_total_d = {'Patient':[], 'Total Vax Time': []} # Vax Time per patient\n",
    "    \n",
    "    # RUN SIMULATION\n",
    "    env = simpy.Environment()\n",
    "    env.process(setup(env, num_staff = STAFF_COUNT, num_nurses = NURSE_COUNT, t_inter = TIME_INTERVAL, covid_prob = COVID_PROB))\n",
    "    env.run(until = 480) \n",
    "    \n",
    "    # STORE DATA\n",
    "    month_total_patients_25.append(len(wait_time_total['Patient']))\n",
    "    month_covid_patients_25.append(len(covid_count))\n",
    "    month_total_vax_patients_25.append(len(time_total_d['Patient']))\n",
    "    month_mean_vax_time_25.append(np.mean(time_total_d['Total Vax Time']))\n",
    "                                \n",
    "    "
   ]
  },
  {
   "cell_type": "markdown",
   "id": "3de0b141-f1c6-49e7-bed4-60f3b9f847c7",
   "metadata": {},
   "source": [
    "### Plots\n",
    "Here, I replicate the plots. The results are in accordance with the following:\n",
    "* Fewer patients are vaccinated when COVID-19 prevalence is higher\n",
    "* It takes longer to get vaccinated if COVID-19 prevalence is higher (most likely because of staffing shortages)\n"
   ]
  },
  {
   "cell_type": "code",
   "execution_count": 151,
   "id": "30bc0cd2-05bf-4ae1-ab9a-c90468d441f3",
   "metadata": {},
   "outputs": [
    {
     "data": {
      "image/png": "[encoded data removed]",
      "text/plain": [
       "<Figure size 432x288 with 1 Axes>"
      ]
     },
     "metadata": {
      "needs_background": "light"
     },
     "output_type": "display_data"
    }
   ],
   "source": [
    "import matplotlib.pyplot as plt\n",
    "plt.hist(month_mean_vax_time_25, density=False, facecolor='g', alpha=0.75)\n",
    "plt.xlabel('Mean Time per Day')\n",
    "plt.ylabel('Total')\n",
    "plt.title('Histogram of Mean Time for Vaccine Administration')\n",
    "plt.show()\n"
   ]
  },
  {
   "cell_type": "code",
   "execution_count": 154,
   "id": "ea9dcf57-b32a-4dd4-b21e-3e7ce9e28e3b",
   "metadata": {},
   "outputs": [
    {
     "data": {
      "image/png": "[encoded data removed]",
      "text/plain": [
       "<Figure size 432x288 with 1 Axes>"
      ]
     },
     "metadata": {
      "needs_background": "light"
     },
     "output_type": "display_data"
    }
   ],
   "source": [
    "plt.hist(month_total_vax_patients_25, density=False, facecolor='r', alpha=0.75)\n",
    "plt.xlabel('Number of Patients')\n",
    "plt.ylabel('Total')\n",
    "plt.title('Histogram of Patients Vaccinated Daily')\n",
    "plt.show()"
   ]
  },
  {
   "cell_type": "code",
   "execution_count": 152,
   "id": "9b440319-ca58-4911-a090-57fc57721ef5",
   "metadata": {},
   "outputs": [
    {
     "data": {
      "image/png": "[encoded data removed]",
      "text/plain": [
       "<Figure size 432x288 with 1 Axes>"
      ]
     },
     "metadata": {
      "needs_background": "light"
     },
     "output_type": "display_data"
    }
   ],
   "source": [
    "plt.bar(range(30), month_covid_patients_25, color ='maroon',\n",
    "        width = 0.4)\n",
    "plt.xlabel(\"Day of the Month\")\n",
    "plt.ylabel(\"No. of COVID-19 Patients\")\n",
    "plt.title(\"COVID-19 Patients per Day\")\n",
    "plt.show()"
   ]
  },
  {
   "cell_type": "code",
   "execution_count": 153,
   "id": "56c2b55d-9e4b-46d1-81ba-af31a96e4f1b",
   "metadata": {},
   "outputs": [
    {
     "data": {
      "image/png": "[encoded data removed]",
      "text/plain": [
       "<Figure size 432x288 with 1 Axes>"
      ]
     },
     "metadata": {
      "needs_background": "light"
     },
     "output_type": "display_data"
    }
   ],
   "source": [
    "plt.bar(range(30), month_total_vax_patients_25, color ='blue',\n",
    "        width = 0.4)\n",
    "plt.xlabel(\"Day of the Month\")\n",
    "plt.ylabel(\"No. of Vaccinated Patients\")\n",
    "plt.title(\"Vaccinated Patients per Day\")\n",
    "plt.show()"
   ]
  },
  {
   "cell_type": "markdown",
   "id": "7e3cf85b-fa6f-4dd7-bd6b-ab337a9a187c",
   "metadata": {},
   "source": [
    "## Limitations\n",
    "The model has the following limitations\n",
    "\n",
    "* Does not account for adverse responses to the vaccine: these were quite rare, so I excluded it for now. \n",
    "* Vaccine supply is unlimited here. I think this is fair, given the federal expansion of vaccine availability, but this might not be the case in a medically-underserved region.\n",
    "* COVID-19 surveillance: this model takes in COVID-19 prevalence and hits an estimate. As we know, surveillance is flawed, due to municipalities not reporting rapid tests and lag in data reporting.\n",
    "\n",
    "## Discussion\n",
    "* If there’s a high incidence of COVID-19 in the area, more folks are going to be ineligible for the vaccine. This in turn could influence staffing decisions\n",
    "* Real life example of resource scarcity: during the COVID-29 surge in December 2021, hospital staff were redeployed across the cancer center. Nurses were calling in sick. Individuals who were not trained were still sent to serve the front desk of a vaccination site. If vaccine sites administer fewer vaccines since more patients are getting COVID-19, employees should (theoretically) be deployed somewhere else for efficiency."
   ]
  }
 ],
 "metadata": {
  "kernelspec": {
   "display_name": "Python 3",
   "language": "python",
   "name": "python3"
  },
  "language_info": {
   "codemirror_mode": {
    "name": "ipython",
    "version": 3
   },
   "file_extension": ".py",
   "mimetype": "text/x-python",
   "name": "python",
   "nbconvert_exporter": "python",
   "pygments_lexer": "ipython3",
   "version": "3.8.5"
  }
 },
 "nbformat": 4,
 "nbformat_minor": 5
}
